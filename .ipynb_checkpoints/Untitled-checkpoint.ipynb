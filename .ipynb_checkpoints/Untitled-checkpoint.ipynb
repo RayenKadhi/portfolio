{
 "cells": [
  {
   "cell_type": "code",
   "execution_count": 2,
   "id": "737b149d",
   "metadata": {},
   "outputs": [],
   "source": [
    "import numpy as np \n",
    "import pandas as pd"
   ]
  },
  {
   "cell_type": "code",
   "execution_count": 5,
   "id": "9a498884",
   "metadata": {},
   "outputs": [],
   "source": [
    "a=np.array([\n",
    "    [1,5,7,6],\n",
    "    [4,8,3,7]\n",
    "\n",
    "\n",
    "])"
   ]
  },
  {
   "cell_type": "code",
   "execution_count": 6,
   "id": "0144b8a8",
   "metadata": {},
   "outputs": [
    {
     "data": {
      "text/plain": [
       "array([[1, 5, 7, 6],\n",
       "       [4, 8, 3, 7]])"
      ]
     },
     "execution_count": 6,
     "metadata": {},
     "output_type": "execute_result"
    }
   ],
   "source": [
    "a"
   ]
  },
  {
   "cell_type": "code",
   "execution_count": 7,
   "id": "ec9be891",
   "metadata": {},
   "outputs": [],
   "source": [
    "g7=pd.Series([25,36.5,45,7,98,78,42,15,16,3,2,45])"
   ]
  },
  {
   "cell_type": "code",
   "execution_count": 9,
   "id": "95a2c09c",
   "metadata": {},
   "outputs": [
    {
     "data": {
      "text/plain": [
       "0     25.0\n",
       "1     36.5\n",
       "2     45.0\n",
       "3      7.0\n",
       "4     98.0\n",
       "5     78.0\n",
       "6     42.0\n",
       "7     15.0\n",
       "8     16.0\n",
       "9      3.0\n",
       "10     2.0\n",
       "11    45.0\n",
       "dtype: float64"
      ]
     },
     "execution_count": 9,
     "metadata": {},
     "output_type": "execute_result"
    }
   ],
   "source": [
    "g7"
   ]
  },
  {
   "cell_type": "code",
   "execution_count": 10,
   "id": "237d48f1",
   "metadata": {},
   "outputs": [],
   "source": [
    "g7.name='Poppulation name'"
   ]
  },
  {
   "cell_type": "code",
   "execution_count": 11,
   "id": "3ca3b046",
   "metadata": {},
   "outputs": [
    {
     "data": {
      "text/plain": [
       "0     25.0\n",
       "1     36.5\n",
       "2     45.0\n",
       "3      7.0\n",
       "4     98.0\n",
       "5     78.0\n",
       "6     42.0\n",
       "7     15.0\n",
       "8     16.0\n",
       "9      3.0\n",
       "10     2.0\n",
       "11    45.0\n",
       "Name: Poppulation name, dtype: float64"
      ]
     },
     "execution_count": 11,
     "metadata": {},
     "output_type": "execute_result"
    }
   ],
   "source": [
    "g7"
   ]
  },
  {
   "cell_type": "code",
   "execution_count": 12,
   "id": "dd155a7b",
   "metadata": {},
   "outputs": [],
   "source": [
    "g7.index=['Canada', 'Negiria', 'Tunisia', 'Croitia', 'England', 'America', 'France', 'Argentine', 'Italia', 'Morocco','Mali','Brazil']"
   ]
  },
  {
   "cell_type": "code",
   "execution_count": 13,
   "id": "4d6be0f8",
   "metadata": {},
   "outputs": [
    {
     "data": {
      "text/plain": [
       "Canada       25.0\n",
       "Negiria      36.5\n",
       "Tunisia      45.0\n",
       "Croitia       7.0\n",
       "England      98.0\n",
       "America      78.0\n",
       "France       42.0\n",
       "Argentine    15.0\n",
       "Italia       16.0\n",
       "Morocco       3.0\n",
       "Mali          2.0\n",
       "Brazil       45.0\n",
       "Name: Poppulation name, dtype: float64"
      ]
     },
     "execution_count": 13,
     "metadata": {},
     "output_type": "execute_result"
    }
   ],
   "source": [
    "g7"
   ]
  },
  {
   "cell_type": "code",
   "execution_count": 14,
   "id": "faa891cc",
   "metadata": {},
   "outputs": [
    {
     "data": {
      "text/plain": [
       "2.0"
      ]
     },
     "execution_count": 14,
     "metadata": {},
     "output_type": "execute_result"
    }
   ],
   "source": [
    "g7['Mali']"
   ]
  },
  {
   "cell_type": "code",
   "execution_count": 17,
   "id": "970f6cc2",
   "metadata": {},
   "outputs": [
    {
     "data": {
      "text/plain": [
       "25.0"
      ]
     },
     "execution_count": 17,
     "metadata": {},
     "output_type": "execute_result"
    }
   ],
   "source": [
    "g7.iloc[0]"
   ]
  },
  {
   "cell_type": "code",
   "execution_count": null,
   "id": "29e76438",
   "metadata": {},
   "outputs": [],
   "source": [
    "g8=pd.Series({\n",
    "    'Germany': 24.52,\n",
    "    'Holland': 80.65,\n",
    "    'Kuait': 45.36,\n",
    "    'Soudan': 484.36,\n",
    "    'Saudia': 451.1,  \n",
    "})"
   ]
  }
 ],
 "metadata": {
  "kernelspec": {
   "display_name": "Python 3",
   "language": "python",
   "name": "python3"
  },
  "language_info": {
   "codemirror_mode": {
    "name": "ipython",
    "version": 3
   },
   "file_extension": ".py",
   "mimetype": "text/x-python",
   "name": "python",
   "nbconvert_exporter": "python",
   "pygments_lexer": "ipython3",
   "version": "3.8.8"
  }
 },
 "nbformat": 4,
 "nbformat_minor": 5
}
