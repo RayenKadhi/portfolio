{
 "cells": [
  {
   "cell_type": "code",
   "execution_count": 2,
   "id": "16ffcea5",
   "metadata": {},
   "outputs": [],
   "source": [
    "import numpy as np \n",
    "import pandas as pd"
   ]
  },
  {
   "cell_type": "code",
   "execution_count": 5,
   "id": "ae59c68d",
   "metadata": {},
   "outputs": [],
   "source": [
    "a=np.array([\n",
    "    [1,5,7,6],\n",
    "    [4,8,3,7]\n",
    "\n",
    "\n",
    "])"
   ]
  },
  {
   "cell_type": "code",
   "execution_count": 6,
   "id": "68dd746d",
   "metadata": {},
   "outputs": [
    {
     "data": {
      "text/plain": [
       "array([[1, 5, 7, 6],\n",
       "       [4, 8, 3, 7]])"
      ]
     },
     "execution_count": 6,
     "metadata": {},
     "output_type": "execute_result"
    }
   ],
   "source": [
    "a"
   ]
  },
  {
   "cell_type": "code",
   "execution_count": 7,
   "id": "e68952f9",
   "metadata": {},
   "outputs": [],
   "source": [
    "g7=pd.Series([25,36.5,45,7,98,78,42,15,16,3,2,45])"
   ]
  },
  {
   "cell_type": "code",
   "execution_count": 9,
   "id": "d482f3ed",
   "metadata": {},
   "outputs": [
    {
     "data": {
      "text/plain": [
       "0     25.0\n",
       "1     36.5\n",
       "2     45.0\n",
       "3      7.0\n",
       "4     98.0\n",
       "5     78.0\n",
       "6     42.0\n",
       "7     15.0\n",
       "8     16.0\n",
       "9      3.0\n",
       "10     2.0\n",
       "11    45.0\n",
       "dtype: float64"
      ]
     },
     "execution_count": 9,
     "metadata": {},
     "output_type": "execute_result"
    }
   ],
   "source": [
    "g7"
   ]
  },
  {
   "cell_type": "code",
   "execution_count": 10,
   "id": "9393557c",
   "metadata": {},
   "outputs": [],
   "source": [
    "g7.name='Poppulation name'"
   ]
  },
  {
   "cell_type": "code",
   "execution_count": 11,
   "id": "80e09079",
   "metadata": {},
   "outputs": [
    {
     "data": {
      "text/plain": [
       "0     25.0\n",
       "1     36.5\n",
       "2     45.0\n",
       "3      7.0\n",
       "4     98.0\n",
       "5     78.0\n",
       "6     42.0\n",
       "7     15.0\n",
       "8     16.0\n",
       "9      3.0\n",
       "10     2.0\n",
       "11    45.0\n",
       "Name: Poppulation name, dtype: float64"
      ]
     },
     "execution_count": 11,
     "metadata": {},
     "output_type": "execute_result"
    }
   ],
   "source": [
    "g7"
   ]
  },
  {
   "cell_type": "code",
   "execution_count": 12,
   "id": "7507d0a8",
   "metadata": {},
   "outputs": [],
   "source": [
    "g7.index=['Canada', 'Negiria', 'Tunisia', 'Croitia', 'England', 'America', 'France', 'Argentine', 'Italia', 'Morocco','Mali','Brazil']"
   ]
  },
  {
   "cell_type": "code",
   "execution_count": 13,
   "id": "fdc596f3",
   "metadata": {},
   "outputs": [
    {
     "data": {
      "text/plain": [
       "Canada       25.0\n",
       "Negiria      36.5\n",
       "Tunisia      45.0\n",
       "Croitia       7.0\n",
       "England      98.0\n",
       "America      78.0\n",
       "France       42.0\n",
       "Argentine    15.0\n",
       "Italia       16.0\n",
       "Morocco       3.0\n",
       "Mali          2.0\n",
       "Brazil       45.0\n",
       "Name: Poppulation name, dtype: float64"
      ]
     },
     "execution_count": 13,
     "metadata": {},
     "output_type": "execute_result"
    }
   ],
   "source": [
    "g7"
   ]
  },
  {
   "cell_type": "code",
   "execution_count": 14,
   "id": "3ba05efe",
   "metadata": {},
   "outputs": [
    {
     "data": {
      "text/plain": [
       "2.0"
      ]
     },
     "execution_count": 14,
     "metadata": {},
     "output_type": "execute_result"
    }
   ],
   "source": [
    "g7['Mali']"
   ]
  },
  {
   "cell_type": "code",
   "execution_count": 17,
   "id": "f37ee2fc",
   "metadata": {},
   "outputs": [
    {
     "data": {
      "text/plain": [
       "25.0"
      ]
     },
     "execution_count": 17,
     "metadata": {},
     "output_type": "execute_result"
    }
   ],
   "source": [
    "g7.iloc[0]"
   ]
  },
  {
   "cell_type": "code",
   "execution_count": 18,
   "id": "7021725c",
   "metadata": {},
   "outputs": [],
   "source": [
    "g8=pd.Series({\n",
    "    'Germany': 24.52,\n",
    "    'Holland': 80.65,\n",
    "    'Kuait': 45.36,\n",
    "    'Soudan': 484.36,\n",
    "    'Saudia': 451.1  \n",
    "})"
   ]
  },
  {
   "cell_type": "code",
   "execution_count": 22,
   "id": "25a3cd75",
   "metadata": {},
   "outputs": [],
   "source": [
    "g8.name='population'"
   ]
  },
  {
   "cell_type": "code",
   "execution_count": 24,
   "id": "36d82f6e",
   "metadata": {},
   "outputs": [
    {
     "data": {
      "text/plain": [
       "Germany     24.52\n",
       "Holland     80.65\n",
       "Kuait       45.36\n",
       "Soudan     484.36\n",
       "Saudia     451.10\n",
       "Name: population, dtype: float64"
      ]
     },
     "execution_count": 24,
     "metadata": {},
     "output_type": "execute_result"
    }
   ],
   "source": [
    "g8"
   ]
  },
  {
   "cell_type": "code",
   "execution_count": 25,
   "id": "07507b76",
   "metadata": {},
   "outputs": [
    {
     "data": {
      "text/plain": [
       "Germany     2452.0\n",
       "Holland     8065.0\n",
       "Kuait       4536.0\n",
       "Soudan     48436.0\n",
       "Saudia     45110.0\n",
       "Name: population, dtype: float64"
      ]
     },
     "execution_count": 25,
     "metadata": {},
     "output_type": "execute_result"
    }
   ],
   "source": [
    "g8*100"
   ]
  },
  {
   "cell_type": "code",
   "execution_count": 26,
   "id": "6395050b",
   "metadata": {},
   "outputs": [],
   "source": [
    "g8['Holland']=35"
   ]
  },
  {
   "cell_type": "code",
   "execution_count": 27,
   "id": "8ed057c8",
   "metadata": {},
   "outputs": [
    {
     "data": {
      "text/plain": [
       "Germany     24.52\n",
       "Holland     35.00\n",
       "Kuait       45.36\n",
       "Soudan     484.36\n",
       "Saudia     451.10\n",
       "Name: population, dtype: float64"
      ]
     },
     "execution_count": 27,
     "metadata": {},
     "output_type": "execute_result"
    }
   ],
   "source": [
    "g8"
   ]
  },
  {
   "cell_type": "code",
   "execution_count": 30,
   "id": "504100d4",
   "metadata": {},
   "outputs": [],
   "source": [
    "Workers=pd.DataFrame({\n",
    "    \n",
    "    'Name':['Ali', 'Houssem', 'Bacem', 'Ridha'],\n",
    "    'Age':[20, 32, 16, 23],\n",
    "    'Wealth':['Medium', 'rich', 'poor', 'rich']  \n",
    "    \n",
    "}, columns=['Name', 'Age', 'Wealth'])"
   ]
  },
  {
   "cell_type": "code",
   "execution_count": 33,
   "id": "ff39e64c",
   "metadata": {},
   "outputs": [
    {
     "data": {
      "text/html": [
       "<div>\n",
       "<style scoped>\n",
       "    .dataframe tbody tr th:only-of-type {\n",
       "        vertical-align: middle;\n",
       "    }\n",
       "\n",
       "    .dataframe tbody tr th {\n",
       "        vertical-align: top;\n",
       "    }\n",
       "\n",
       "    .dataframe thead th {\n",
       "        text-align: right;\n",
       "    }\n",
       "</style>\n",
       "<table border=\"1\" class=\"dataframe\">\n",
       "  <thead>\n",
       "    <tr style=\"text-align: right;\">\n",
       "      <th></th>\n",
       "      <th>Name</th>\n",
       "      <th>Age</th>\n",
       "      <th>Wealth</th>\n",
       "    </tr>\n",
       "  </thead>\n",
       "  <tbody>\n",
       "    <tr>\n",
       "      <th>0</th>\n",
       "      <td>Ali</td>\n",
       "      <td>20</td>\n",
       "      <td>Medium</td>\n",
       "    </tr>\n",
       "    <tr>\n",
       "      <th>1</th>\n",
       "      <td>Houssem</td>\n",
       "      <td>32</td>\n",
       "      <td>rich</td>\n",
       "    </tr>\n",
       "    <tr>\n",
       "      <th>2</th>\n",
       "      <td>Bacem</td>\n",
       "      <td>16</td>\n",
       "      <td>poor</td>\n",
       "    </tr>\n",
       "    <tr>\n",
       "      <th>3</th>\n",
       "      <td>Ridha</td>\n",
       "      <td>23</td>\n",
       "      <td>rich</td>\n",
       "    </tr>\n",
       "  </tbody>\n",
       "</table>\n",
       "</div>"
      ],
      "text/plain": [
       "      Name  Age  Wealth\n",
       "0      Ali   20  Medium\n",
       "1  Houssem   32    rich\n",
       "2    Bacem   16    poor\n",
       "3    Ridha   23    rich"
      ]
     },
     "execution_count": 33,
     "metadata": {},
     "output_type": "execute_result"
    }
   ],
   "source": [
    "Workers"
   ]
  },
  {
   "cell_type": "code",
   "execution_count": 34,
   "id": "3b1eab66",
   "metadata": {},
   "outputs": [],
   "source": [
    "Workers.index=['W1','W2','W3','W4']"
   ]
  },
  {
   "cell_type": "code",
   "execution_count": 35,
   "id": "dc5d1d28",
   "metadata": {},
   "outputs": [
    {
     "data": {
      "text/html": [
       "<div>\n",
       "<style scoped>\n",
       "    .dataframe tbody tr th:only-of-type {\n",
       "        vertical-align: middle;\n",
       "    }\n",
       "\n",
       "    .dataframe tbody tr th {\n",
       "        vertical-align: top;\n",
       "    }\n",
       "\n",
       "    .dataframe thead th {\n",
       "        text-align: right;\n",
       "    }\n",
       "</style>\n",
       "<table border=\"1\" class=\"dataframe\">\n",
       "  <thead>\n",
       "    <tr style=\"text-align: right;\">\n",
       "      <th></th>\n",
       "      <th>Name</th>\n",
       "      <th>Age</th>\n",
       "      <th>Wealth</th>\n",
       "    </tr>\n",
       "  </thead>\n",
       "  <tbody>\n",
       "    <tr>\n",
       "      <th>W1</th>\n",
       "      <td>Ali</td>\n",
       "      <td>20</td>\n",
       "      <td>Medium</td>\n",
       "    </tr>\n",
       "    <tr>\n",
       "      <th>W2</th>\n",
       "      <td>Houssem</td>\n",
       "      <td>32</td>\n",
       "      <td>rich</td>\n",
       "    </tr>\n",
       "    <tr>\n",
       "      <th>W3</th>\n",
       "      <td>Bacem</td>\n",
       "      <td>16</td>\n",
       "      <td>poor</td>\n",
       "    </tr>\n",
       "    <tr>\n",
       "      <th>W4</th>\n",
       "      <td>Ridha</td>\n",
       "      <td>23</td>\n",
       "      <td>rich</td>\n",
       "    </tr>\n",
       "  </tbody>\n",
       "</table>\n",
       "</div>"
      ],
      "text/plain": [
       "       Name  Age  Wealth\n",
       "W1      Ali   20  Medium\n",
       "W2  Houssem   32    rich\n",
       "W3    Bacem   16    poor\n",
       "W4    Ridha   23    rich"
      ]
     },
     "execution_count": 35,
     "metadata": {},
     "output_type": "execute_result"
    }
   ],
   "source": [
    "Workers"
   ]
  },
  {
   "cell_type": "code",
   "execution_count": 37,
   "id": "96aa6ebe",
   "metadata": {},
   "outputs": [
    {
     "data": {
      "text/plain": [
       "Index(['Name', 'Age', 'Wealth'], dtype='object')"
      ]
     },
     "execution_count": 37,
     "metadata": {},
     "output_type": "execute_result"
    }
   ],
   "source": [
    "Workers.columns"
   ]
  },
  {
   "cell_type": "code",
   "execution_count": 38,
   "id": "018f1ad6",
   "metadata": {},
   "outputs": [
    {
     "data": {
      "text/plain": [
       "Index(['W1', 'W2', 'W3', 'W4'], dtype='object')"
      ]
     },
     "execution_count": 38,
     "metadata": {},
     "output_type": "execute_result"
    }
   ],
   "source": [
    "Workers.index"
   ]
  },
  {
   "cell_type": "code",
   "execution_count": 39,
   "id": "25946237",
   "metadata": {},
   "outputs": [
    {
     "data": {
      "text/plain": [
       "(4, 3)"
      ]
     },
     "execution_count": 39,
     "metadata": {},
     "output_type": "execute_result"
    }
   ],
   "source": [
    "Workers.shape"
   ]
  },
  {
   "cell_type": "code",
   "execution_count": 40,
   "id": "a46c4c4d",
   "metadata": {},
   "outputs": [
    {
     "data": {
      "text/plain": [
       "12"
      ]
     },
     "execution_count": 40,
     "metadata": {},
     "output_type": "execute_result"
    }
   ],
   "source": [
    "Workers.size"
   ]
  },
  {
   "cell_type": "code",
   "execution_count": 45,
   "id": "48386a89",
   "metadata": {},
   "outputs": [
    {
     "name": "stdout",
     "output_type": "stream",
     "text": [
      "<class 'pandas.core.frame.DataFrame'>\n",
      "Index: 4 entries, W1 to W4\n",
      "Data columns (total 3 columns):\n",
      " #   Column  Non-Null Count  Dtype \n",
      "---  ------  --------------  ----- \n",
      " 0   Name    4 non-null      object\n",
      " 1   Age     4 non-null      int64 \n",
      " 2   Wealth  4 non-null      object\n",
      "dtypes: int64(1), object(2)\n",
      "memory usage: 128.0+ bytes\n"
     ]
    }
   ],
   "source": [
    "Workers.info()"
   ]
  },
  {
   "cell_type": "code",
   "execution_count": 44,
   "id": "4e2d4111",
   "metadata": {},
   "outputs": [
    {
     "data": {
      "text/html": [
       "<div>\n",
       "<style scoped>\n",
       "    .dataframe tbody tr th:only-of-type {\n",
       "        vertical-align: middle;\n",
       "    }\n",
       "\n",
       "    .dataframe tbody tr th {\n",
       "        vertical-align: top;\n",
       "    }\n",
       "\n",
       "    .dataframe thead th {\n",
       "        text-align: right;\n",
       "    }\n",
       "</style>\n",
       "<table border=\"1\" class=\"dataframe\">\n",
       "  <thead>\n",
       "    <tr style=\"text-align: right;\">\n",
       "      <th></th>\n",
       "      <th>Age</th>\n",
       "    </tr>\n",
       "  </thead>\n",
       "  <tbody>\n",
       "    <tr>\n",
       "      <th>count</th>\n",
       "      <td>4.000000</td>\n",
       "    </tr>\n",
       "    <tr>\n",
       "      <th>mean</th>\n",
       "      <td>22.750000</td>\n",
       "    </tr>\n",
       "    <tr>\n",
       "      <th>std</th>\n",
       "      <td>6.800735</td>\n",
       "    </tr>\n",
       "    <tr>\n",
       "      <th>min</th>\n",
       "      <td>16.000000</td>\n",
       "    </tr>\n",
       "    <tr>\n",
       "      <th>25%</th>\n",
       "      <td>19.000000</td>\n",
       "    </tr>\n",
       "    <tr>\n",
       "      <th>50%</th>\n",
       "      <td>21.500000</td>\n",
       "    </tr>\n",
       "    <tr>\n",
       "      <th>75%</th>\n",
       "      <td>25.250000</td>\n",
       "    </tr>\n",
       "    <tr>\n",
       "      <th>max</th>\n",
       "      <td>32.000000</td>\n",
       "    </tr>\n",
       "  </tbody>\n",
       "</table>\n",
       "</div>"
      ],
      "text/plain": [
       "             Age\n",
       "count   4.000000\n",
       "mean   22.750000\n",
       "std     6.800735\n",
       "min    16.000000\n",
       "25%    19.000000\n",
       "50%    21.500000\n",
       "75%    25.250000\n",
       "max    32.000000"
      ]
     },
     "execution_count": 44,
     "metadata": {},
     "output_type": "execute_result"
    }
   ],
   "source": [
    "Workers.describe()"
   ]
  },
  {
   "cell_type": "code",
   "execution_count": 48,
   "id": "9561d090",
   "metadata": {},
   "outputs": [
    {
     "data": {
      "text/plain": [
       "object    2\n",
       "int64     1\n",
       "dtype: int64"
      ]
     },
     "execution_count": 48,
     "metadata": {},
     "output_type": "execute_result"
    }
   ],
   "source": [
    "Workers.dtypes.value_counts()"
   ]
  },
  {
   "cell_type": "code",
   "execution_count": 51,
   "id": "92abfa9e",
   "metadata": {},
   "outputs": [
    {
     "data": {
      "text/plain": [
       "Name         Ali\n",
       "Age           20\n",
       "Wealth    Medium\n",
       "Name: W1, dtype: object"
      ]
     },
     "execution_count": 51,
     "metadata": {},
     "output_type": "execute_result"
    }
   ],
   "source": [
    "Workers.loc['W1']"
   ]
  },
  {
   "cell_type": "code",
   "execution_count": 52,
   "id": "b1e4c72c",
   "metadata": {},
   "outputs": [
    {
     "data": {
      "text/plain": [
       "Name      Ridha\n",
       "Age          23\n",
       "Wealth     rich\n",
       "Name: W4, dtype: object"
      ]
     },
     "execution_count": 52,
     "metadata": {},
     "output_type": "execute_result"
    }
   ],
   "source": [
    "Workers.iloc[-1]"
   ]
  },
  {
   "cell_type": "code",
   "execution_count": 53,
   "id": "36f48529",
   "metadata": {},
   "outputs": [
    {
     "data": {
      "text/plain": [
       "W1        Ali\n",
       "W2    Houssem\n",
       "W3      Bacem\n",
       "W4      Ridha\n",
       "Name: Name, dtype: object"
      ]
     },
     "execution_count": 53,
     "metadata": {},
     "output_type": "execute_result"
    }
   ],
   "source": [
    "Workers['Name']"
   ]
  },
  {
   "cell_type": "code",
   "execution_count": 54,
   "id": "83d7a60c",
   "metadata": {},
   "outputs": [
    {
     "data": {
      "text/html": [
       "<div>\n",
       "<style scoped>\n",
       "    .dataframe tbody tr th:only-of-type {\n",
       "        vertical-align: middle;\n",
       "    }\n",
       "\n",
       "    .dataframe tbody tr th {\n",
       "        vertical-align: top;\n",
       "    }\n",
       "\n",
       "    .dataframe thead th {\n",
       "        text-align: right;\n",
       "    }\n",
       "</style>\n",
       "<table border=\"1\" class=\"dataframe\">\n",
       "  <thead>\n",
       "    <tr style=\"text-align: right;\">\n",
       "      <th></th>\n",
       "      <th>Name</th>\n",
       "    </tr>\n",
       "  </thead>\n",
       "  <tbody>\n",
       "    <tr>\n",
       "      <th>W1</th>\n",
       "      <td>Ali</td>\n",
       "    </tr>\n",
       "    <tr>\n",
       "      <th>W2</th>\n",
       "      <td>Houssem</td>\n",
       "    </tr>\n",
       "    <tr>\n",
       "      <th>W3</th>\n",
       "      <td>Bacem</td>\n",
       "    </tr>\n",
       "    <tr>\n",
       "      <th>W4</th>\n",
       "      <td>Ridha</td>\n",
       "    </tr>\n",
       "  </tbody>\n",
       "</table>\n",
       "</div>"
      ],
      "text/plain": [
       "       Name\n",
       "W1      Ali\n",
       "W2  Houssem\n",
       "W3    Bacem\n",
       "W4    Ridha"
      ]
     },
     "execution_count": 54,
     "metadata": {},
     "output_type": "execute_result"
    }
   ],
   "source": [
    "Workers['Name'].to_frame()"
   ]
  },
  {
   "cell_type": "code",
   "execution_count": 55,
   "id": "c15f5779",
   "metadata": {},
   "outputs": [
    {
     "data": {
      "text/html": [
       "<div>\n",
       "<style scoped>\n",
       "    .dataframe tbody tr th:only-of-type {\n",
       "        vertical-align: middle;\n",
       "    }\n",
       "\n",
       "    .dataframe tbody tr th {\n",
       "        vertical-align: top;\n",
       "    }\n",
       "\n",
       "    .dataframe thead th {\n",
       "        text-align: right;\n",
       "    }\n",
       "</style>\n",
       "<table border=\"1\" class=\"dataframe\">\n",
       "  <thead>\n",
       "    <tr style=\"text-align: right;\">\n",
       "      <th></th>\n",
       "      <th>Name</th>\n",
       "      <th>Age</th>\n",
       "    </tr>\n",
       "  </thead>\n",
       "  <tbody>\n",
       "    <tr>\n",
       "      <th>W1</th>\n",
       "      <td>Ali</td>\n",
       "      <td>20</td>\n",
       "    </tr>\n",
       "    <tr>\n",
       "      <th>W2</th>\n",
       "      <td>Houssem</td>\n",
       "      <td>32</td>\n",
       "    </tr>\n",
       "    <tr>\n",
       "      <th>W3</th>\n",
       "      <td>Bacem</td>\n",
       "      <td>16</td>\n",
       "    </tr>\n",
       "    <tr>\n",
       "      <th>W4</th>\n",
       "      <td>Ridha</td>\n",
       "      <td>23</td>\n",
       "    </tr>\n",
       "  </tbody>\n",
       "</table>\n",
       "</div>"
      ],
      "text/plain": [
       "       Name  Age\n",
       "W1      Ali   20\n",
       "W2  Houssem   32\n",
       "W3    Bacem   16\n",
       "W4    Ridha   23"
      ]
     },
     "execution_count": 55,
     "metadata": {},
     "output_type": "execute_result"
    }
   ],
   "source": [
    "Workers[['Name','Age']]"
   ]
  },
  {
   "cell_type": "code",
   "execution_count": 58,
   "id": "c71fd2b1",
   "metadata": {},
   "outputs": [
    {
     "data": {
      "text/html": [
       "<div>\n",
       "<style scoped>\n",
       "    .dataframe tbody tr th:only-of-type {\n",
       "        vertical-align: middle;\n",
       "    }\n",
       "\n",
       "    .dataframe tbody tr th {\n",
       "        vertical-align: top;\n",
       "    }\n",
       "\n",
       "    .dataframe thead th {\n",
       "        text-align: right;\n",
       "    }\n",
       "</style>\n",
       "<table border=\"1\" class=\"dataframe\">\n",
       "  <thead>\n",
       "    <tr style=\"text-align: right;\">\n",
       "      <th></th>\n",
       "      <th>Name</th>\n",
       "      <th>Age</th>\n",
       "      <th>Wealth</th>\n",
       "    </tr>\n",
       "  </thead>\n",
       "  <tbody>\n",
       "    <tr>\n",
       "      <th>W1</th>\n",
       "      <td>Ali</td>\n",
       "      <td>20</td>\n",
       "      <td>Medium</td>\n",
       "    </tr>\n",
       "    <tr>\n",
       "      <th>W2</th>\n",
       "      <td>Houssem</td>\n",
       "      <td>32</td>\n",
       "      <td>rich</td>\n",
       "    </tr>\n",
       "    <tr>\n",
       "      <th>W3</th>\n",
       "      <td>Bacem</td>\n",
       "      <td>16</td>\n",
       "      <td>poor</td>\n",
       "    </tr>\n",
       "  </tbody>\n",
       "</table>\n",
       "</div>"
      ],
      "text/plain": [
       "       Name  Age  Wealth\n",
       "W1      Ali   20  Medium\n",
       "W2  Houssem   32    rich\n",
       "W3    Bacem   16    poor"
      ]
     },
     "execution_count": 58,
     "metadata": {},
     "output_type": "execute_result"
    }
   ],
   "source": [
    "Workers.loc['W1':'W3']"
   ]
  },
  {
   "cell_type": "code",
   "execution_count": 60,
   "id": "2bc7ef4b",
   "metadata": {},
   "outputs": [
    {
     "data": {
      "text/plain": [
       "W1    Medium\n",
       "W2      rich\n",
       "W3      poor\n",
       "Name: Wealth, dtype: object"
      ]
     },
     "execution_count": 60,
     "metadata": {},
     "output_type": "execute_result"
    }
   ],
   "source": [
    "Workers.loc['W1':'W3','Wealth']"
   ]
  },
  {
   "cell_type": "code",
   "execution_count": 61,
   "id": "fcb7e490",
   "metadata": {},
   "outputs": [
    {
     "data": {
      "text/plain": [
       "W1    False\n",
       "W2     True\n",
       "W3    False\n",
       "W4     True\n",
       "Name: Age, dtype: bool"
      ]
     },
     "execution_count": 61,
     "metadata": {},
     "output_type": "execute_result"
    }
   ],
   "source": [
    "Workers['Age']>20"
   ]
  },
  {
   "cell_type": "code",
   "execution_count": 65,
   "id": "d1437be3",
   "metadata": {},
   "outputs": [
    {
     "data": {
      "text/html": [
       "<div>\n",
       "<style scoped>\n",
       "    .dataframe tbody tr th:only-of-type {\n",
       "        vertical-align: middle;\n",
       "    }\n",
       "\n",
       "    .dataframe tbody tr th {\n",
       "        vertical-align: top;\n",
       "    }\n",
       "\n",
       "    .dataframe thead th {\n",
       "        text-align: right;\n",
       "    }\n",
       "</style>\n",
       "<table border=\"1\" class=\"dataframe\">\n",
       "  <thead>\n",
       "    <tr style=\"text-align: right;\">\n",
       "      <th></th>\n",
       "      <th>Name</th>\n",
       "      <th>Age</th>\n",
       "      <th>Wealth</th>\n",
       "    </tr>\n",
       "  </thead>\n",
       "  <tbody>\n",
       "    <tr>\n",
       "      <th>W2</th>\n",
       "      <td>Houssem</td>\n",
       "      <td>32</td>\n",
       "      <td>rich</td>\n",
       "    </tr>\n",
       "    <tr>\n",
       "      <th>W4</th>\n",
       "      <td>Ridha</td>\n",
       "      <td>23</td>\n",
       "      <td>rich</td>\n",
       "    </tr>\n",
       "  </tbody>\n",
       "</table>\n",
       "</div>"
      ],
      "text/plain": [
       "       Name  Age Wealth\n",
       "W2  Houssem   32   rich\n",
       "W4    Ridha   23   rich"
      ]
     },
     "execution_count": 65,
     "metadata": {},
     "output_type": "execute_result"
    }
   ],
   "source": [
    "Workers.loc[Workers['Age']>20]"
   ]
  },
  {
   "cell_type": "code",
   "execution_count": 66,
   "id": "374f5073",
   "metadata": {},
   "outputs": [
    {
     "data": {
      "text/plain": [
       "W2    Houssem\n",
       "W4      Ridha\n",
       "Name: Name, dtype: object"
      ]
     },
     "execution_count": 66,
     "metadata": {},
     "output_type": "execute_result"
    }
   ],
   "source": [
    "Workers.loc[Workers['Age']>20, 'Name']"
   ]
  },
  {
   "cell_type": "code",
   "execution_count": 70,
   "id": "e482c765",
   "metadata": {},
   "outputs": [
    {
     "data": {
      "text/html": [
       "<div>\n",
       "<style scoped>\n",
       "    .dataframe tbody tr th:only-of-type {\n",
       "        vertical-align: middle;\n",
       "    }\n",
       "\n",
       "    .dataframe tbody tr th {\n",
       "        vertical-align: top;\n",
       "    }\n",
       "\n",
       "    .dataframe thead th {\n",
       "        text-align: right;\n",
       "    }\n",
       "</style>\n",
       "<table border=\"1\" class=\"dataframe\">\n",
       "  <thead>\n",
       "    <tr style=\"text-align: right;\">\n",
       "      <th></th>\n",
       "      <th>Name</th>\n",
       "      <th>Age</th>\n",
       "      <th>Wealth</th>\n",
       "    </tr>\n",
       "  </thead>\n",
       "  <tbody>\n",
       "    <tr>\n",
       "      <th>W2</th>\n",
       "      <td>Houssem</td>\n",
       "      <td>32</td>\n",
       "      <td>rich</td>\n",
       "    </tr>\n",
       "    <tr>\n",
       "      <th>W3</th>\n",
       "      <td>Bacem</td>\n",
       "      <td>16</td>\n",
       "      <td>poor</td>\n",
       "    </tr>\n",
       "    <tr>\n",
       "      <th>W4</th>\n",
       "      <td>Ridha</td>\n",
       "      <td>23</td>\n",
       "      <td>rich</td>\n",
       "    </tr>\n",
       "  </tbody>\n",
       "</table>\n",
       "</div>"
      ],
      "text/plain": [
       "       Name  Age Wealth\n",
       "W2  Houssem   32   rich\n",
       "W3    Bacem   16   poor\n",
       "W4    Ridha   23   rich"
      ]
     },
     "execution_count": 70,
     "metadata": {},
     "output_type": "execute_result"
    }
   ],
   "source": [
    "Workers.drop('W1')"
   ]
  },
  {
   "cell_type": "code",
   "execution_count": 71,
   "id": "e2c5d7fa",
   "metadata": {},
   "outputs": [
    {
     "data": {
      "text/html": [
       "<div>\n",
       "<style scoped>\n",
       "    .dataframe tbody tr th:only-of-type {\n",
       "        vertical-align: middle;\n",
       "    }\n",
       "\n",
       "    .dataframe tbody tr th {\n",
       "        vertical-align: top;\n",
       "    }\n",
       "\n",
       "    .dataframe thead th {\n",
       "        text-align: right;\n",
       "    }\n",
       "</style>\n",
       "<table border=\"1\" class=\"dataframe\">\n",
       "  <thead>\n",
       "    <tr style=\"text-align: right;\">\n",
       "      <th></th>\n",
       "      <th>Name</th>\n",
       "      <th>Age</th>\n",
       "    </tr>\n",
       "  </thead>\n",
       "  <tbody>\n",
       "    <tr>\n",
       "      <th>W1</th>\n",
       "      <td>Ali</td>\n",
       "      <td>20</td>\n",
       "    </tr>\n",
       "    <tr>\n",
       "      <th>W2</th>\n",
       "      <td>Houssem</td>\n",
       "      <td>32</td>\n",
       "    </tr>\n",
       "    <tr>\n",
       "      <th>W3</th>\n",
       "      <td>Bacem</td>\n",
       "      <td>16</td>\n",
       "    </tr>\n",
       "    <tr>\n",
       "      <th>W4</th>\n",
       "      <td>Ridha</td>\n",
       "      <td>23</td>\n",
       "    </tr>\n",
       "  </tbody>\n",
       "</table>\n",
       "</div>"
      ],
      "text/plain": [
       "       Name  Age\n",
       "W1      Ali   20\n",
       "W2  Houssem   32\n",
       "W3    Bacem   16\n",
       "W4    Ridha   23"
      ]
     },
     "execution_count": 71,
     "metadata": {},
     "output_type": "execute_result"
    }
   ],
   "source": [
    "Workers.drop(columns=['Wealth'])"
   ]
  }
 ],
 "metadata": {
  "kernelspec": {
   "display_name": "Python 3",
   "language": "python",
   "name": "python3"
  },
  "language_info": {
   "codemirror_mode": {
    "name": "ipython",
    "version": 3
   },
   "file_extension": ".py",
   "mimetype": "text/x-python",
   "name": "python",
   "nbconvert_exporter": "python",
   "pygments_lexer": "ipython3",
   "version": "3.8.8"
  }
 },
 "nbformat": 4,
 "nbformat_minor": 5
}
